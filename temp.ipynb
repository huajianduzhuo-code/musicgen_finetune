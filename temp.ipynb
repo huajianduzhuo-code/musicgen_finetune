{
 "cells": [
  {
   "cell_type": "code",
   "execution_count": 3,
   "metadata": {},
   "outputs": [
    {
     "name": "stdout",
     "output_type": "stream",
     "text": [
      "The files are identical\n"
     ]
    }
   ],
   "source": [
    "def compare_files_byte_by_byte(file1, file2):\n",
    "    with open(file1, 'rb') as f1, open(file2, 'rb') as f2:\n",
    "        while True:\n",
    "            b1 = f1.read(4096)\n",
    "            b2 = f2.read(4096)\n",
    "            if b1 != b2:\n",
    "                return False\n",
    "            if not b1:  # End of file\n",
    "                return True\n",
    "\n",
    "# Example usage\n",
    "file1 = 'my_models/hub/checkpoints/955717e8-8726e21a.th'\n",
    "file2 = 'trained_model/hub/checkpoints/955717e8-8726e21a.th'\n",
    "are_identical = compare_files_byte_by_byte(file1, file2)\n",
    "print(f\"The files are {'identical' if are_identical else 'different'}\")"
   ]
  },
  {
   "cell_type": "code",
   "execution_count": 1,
   "metadata": {},
   "outputs": [],
   "source": [
    "import torch\n",
    "\n",
    "state_dict = torch.load('tmp/audiocraft/xps/71437a3b/checkpoint.th')"
   ]
  },
  {
   "cell_type": "code",
   "execution_count": 2,
   "metadata": {},
   "outputs": [
    {
     "data": {
      "text/plain": [
       "dict_keys(['history', 'xp.cfg', 'xp.sig', 'best_state', 'fsdp_best_state', 'compression_model', 'model', 'optimizer', 'lr_scheduler', 'scaler', 'ema'])"
      ]
     },
     "execution_count": 2,
     "metadata": {},
     "output_type": "execute_result"
    }
   ],
   "source": [
    "state_dict.keys()"
   ]
  },
  {
   "cell_type": "code",
   "execution_count": 2,
   "metadata": {},
   "outputs": [],
   "source": [
    "new_state_dict = {}\n",
    "new_state_dict['xp.cfg'] = state_dict['xp.cfg']\n",
    "new_state_dict['model'] = state_dict['model']"
   ]
  },
  {
   "cell_type": "code",
   "execution_count": 3,
   "metadata": {},
   "outputs": [],
   "source": [
    "torch.save(new_state_dict, \"trained_model/guoqu3epoch100iter.th\")"
   ]
  },
  {
   "cell_type": "code",
   "execution_count": 1,
   "metadata": {},
   "outputs": [
    {
     "name": "stdout",
     "output_type": "stream",
     "text": [
      "导出了 ./first_half.mp3\n",
      "导出了 ./second_half.mp3\n"
     ]
    }
   ],
   "source": [
    "from pydub import AudioSegment\n",
    "\n",
    "def split_mp3(file_path, output_folder):\n",
    "    # 加载音频文件\n",
    "    audio = AudioSegment.from_mp3(file_path)\n",
    "    \n",
    "    # 计算每一部分的长度\n",
    "    half_length = len(audio) // 2\n",
    "    \n",
    "    # 获取前半部分和后半部分\n",
    "    first_half = audio[:half_length]\n",
    "    second_half = audio[half_length:]\n",
    "    \n",
    "    # 导出前半部分\n",
    "    first_half_path = f\"{output_folder}/first_half.mp3\"\n",
    "    first_half.export(first_half_path, format=\"mp3\")\n",
    "    print(f\"导出了 {first_half_path}\")\n",
    "    \n",
    "    # 导出后半部分\n",
    "    second_half_path = f\"{output_folder}/second_half.mp3\"\n",
    "    second_half.export(second_half_path, format=\"mp3\")\n",
    "    print(f\"导出了 {second_half_path}\")\n",
    "\n",
    "# 示例用法\n",
    "split_mp3(\n",
    "    file_path=\"8589.mp3\",\n",
    "    output_folder=\".\"\n",
    ")\n"
   ]
  },
  {
   "cell_type": "code",
   "execution_count": 5,
   "metadata": {},
   "outputs": [
    {
     "data": {
      "text/plain": [
       "'121_dsaf._ddd'"
      ]
     },
     "execution_count": 5,
     "metadata": {},
     "output_type": "execute_result"
    }
   ],
   "source": [
    "\"_\".join(\"121 dsaf. ddd\".split(\" \"))"
   ]
  },
  {
   "cell_type": "code",
   "execution_count": null,
   "metadata": {},
   "outputs": [],
   "source": []
  }
 ],
 "metadata": {
  "kernelspec": {
   "display_name": "musicgen_env",
   "language": "python",
   "name": "python3"
  },
  "language_info": {
   "codemirror_mode": {
    "name": "ipython",
    "version": 3
   },
   "file_extension": ".py",
   "mimetype": "text/x-python",
   "name": "python",
   "nbconvert_exporter": "python",
   "pygments_lexer": "ipython3",
   "version": "3.10.12"
  }
 },
 "nbformat": 4,
 "nbformat_minor": 2
}
